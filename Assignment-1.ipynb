{
 "cells": [
  {
   "cell_type": "markdown",
   "id": "d187c843",
   "metadata": {},
   "source": [
    "## ASSIGNMENT 1"
   ]
  },
  {
   "cell_type": "markdown",
   "id": "041f16d5",
   "metadata": {},
   "source": [
    "Q1. Create one variable containing following type of data:\n",
    "(i) string\n",
    "(ii) list\n",
    "(iii) float\n",
    "(iv) tuple"
   ]
  },
  {
   "cell_type": "code",
   "execution_count": 2,
   "id": "bd8c3b73",
   "metadata": {},
   "outputs": [],
   "source": [
    "string = 'Hello'\n",
    "lst = [1,\"Good Day!\",True,[1,2,3]]\n",
    "flt = 9.70\n",
    "tpl = (1,2,3)"
   ]
  },
  {
   "cell_type": "markdown",
   "id": "d4b38386",
   "metadata": {},
   "source": [
    "Q2. Given are some following variables containing data:\n",
    "(i) var1 = ‘ ‘\n",
    "(ii) var2 = ‘[ DS , ML , Python]’\n",
    "(iii) var3 = [ ‘DS’ , ’ML’ , ‘Python’ ]\n",
    "(iv) var4 = 1."
   ]
  },
  {
   "cell_type": "code",
   "execution_count": 6,
   "id": "133e9f8c",
   "metadata": {},
   "outputs": [],
   "source": [
    "var1 = ''\n",
    "var2 = '[ DS , ML , Python]'\n",
    "var3 = [ 'DS' , 'ML' , 'Python' ]\n",
    "var4 = 1"
   ]
  },
  {
   "cell_type": "code",
   "execution_count": 7,
   "id": "6bee1130",
   "metadata": {},
   "outputs": [
    {
     "data": {
      "text/plain": [
       "str"
      ]
     },
     "execution_count": 7,
     "metadata": {},
     "output_type": "execute_result"
    }
   ],
   "source": [
    "type(var1)"
   ]
  },
  {
   "cell_type": "code",
   "execution_count": 8,
   "id": "3b65a55b",
   "metadata": {},
   "outputs": [
    {
     "data": {
      "text/plain": [
       "str"
      ]
     },
     "execution_count": 8,
     "metadata": {},
     "output_type": "execute_result"
    }
   ],
   "source": [
    "type(var2)"
   ]
  },
  {
   "cell_type": "code",
   "execution_count": 9,
   "id": "092ae4d9",
   "metadata": {},
   "outputs": [
    {
     "data": {
      "text/plain": [
       "list"
      ]
     },
     "execution_count": 9,
     "metadata": {},
     "output_type": "execute_result"
    }
   ],
   "source": [
    "type(var3)"
   ]
  },
  {
   "cell_type": "code",
   "execution_count": 10,
   "id": "b60f6394",
   "metadata": {},
   "outputs": [
    {
     "data": {
      "text/plain": [
       "int"
      ]
     },
     "execution_count": 10,
     "metadata": {},
     "output_type": "execute_result"
    }
   ],
   "source": [
    "type(var4)"
   ]
  },
  {
   "cell_type": "markdown",
   "id": "cb732534",
   "metadata": {},
   "source": [
    "Q3.\n"
   ]
  },
  {
   "cell_type": "markdown",
   "id": "7a35a79b",
   "metadata": {},
   "source": [
    "'/' is the division operator in python. It returns a floating value"
   ]
  },
  {
   "cell_type": "code",
   "execution_count": 15,
   "id": "af0ed9c1",
   "metadata": {},
   "outputs": [
    {
     "data": {
      "text/plain": [
       "2.5"
      ]
     },
     "execution_count": 15,
     "metadata": {},
     "output_type": "execute_result"
    }
   ],
   "source": [
    "5/2"
   ]
  },
  {
   "cell_type": "markdown",
   "id": "d9bf5d7b",
   "metadata": {},
   "source": [
    "'%' is the modulus operator in python. It is used to return the remainder of the numbers."
   ]
  },
  {
   "cell_type": "code",
   "execution_count": 13,
   "id": "6db6d6e1",
   "metadata": {},
   "outputs": [
    {
     "data": {
      "text/plain": [
       "1"
      ]
     },
     "execution_count": 13,
     "metadata": {},
     "output_type": "execute_result"
    }
   ],
   "source": [
    "5%2"
   ]
  },
  {
   "cell_type": "markdown",
   "id": "bdb07963",
   "metadata": {},
   "source": [
    "'//' is the floor division operator in python. It returns the quotient of the numbers."
   ]
  },
  {
   "cell_type": "code",
   "execution_count": 16,
   "id": "d4516dde",
   "metadata": {},
   "outputs": [
    {
     "data": {
      "text/plain": [
       "2"
      ]
     },
     "execution_count": 16,
     "metadata": {},
     "output_type": "execute_result"
    }
   ],
   "source": [
    "5//2"
   ]
  },
  {
   "cell_type": "markdown",
   "id": "029e2905",
   "metadata": {},
   "source": [
    "'\\*\\*' is the power operator. a**b means a to the power b."
   ]
  },
  {
   "cell_type": "code",
   "execution_count": 17,
   "id": "d8002704",
   "metadata": {},
   "outputs": [
    {
     "data": {
      "text/plain": [
       "25"
      ]
     },
     "execution_count": 17,
     "metadata": {},
     "output_type": "execute_result"
    }
   ],
   "source": [
    "5**2"
   ]
  },
  {
   "cell_type": "markdown",
   "id": "1b2a5ae5",
   "metadata": {},
   "source": [
    "Q4."
   ]
  },
  {
   "cell_type": "code",
   "execution_count": 18,
   "id": "47b3705c",
   "metadata": {},
   "outputs": [],
   "source": [
    "a = [\"Aarushi\",100,True,\"successful\",9.0,[1,2,3],(8,9,0),['Data Science','Python'],\"\",False]"
   ]
  },
  {
   "cell_type": "code",
   "execution_count": 20,
   "id": "ee974b1c",
   "metadata": {},
   "outputs": [
    {
     "name": "stdout",
     "output_type": "stream",
     "text": [
      "Aarushi <class 'str'>\n",
      "100 <class 'int'>\n",
      "True <class 'bool'>\n",
      "successful <class 'str'>\n",
      "9.0 <class 'float'>\n",
      "[1, 2, 3] <class 'list'>\n",
      "(8, 9, 0) <class 'tuple'>\n",
      "['Data Science', 'Python'] <class 'list'>\n",
      " <class 'str'>\n",
      "False <class 'bool'>\n"
     ]
    }
   ],
   "source": [
    "for i in a:\n",
    "    print(i,type(i))"
   ]
  },
  {
   "cell_type": "markdown",
   "id": "d40cc139",
   "metadata": {},
   "source": [
    "Q5."
   ]
  },
  {
   "cell_type": "code",
   "execution_count": 26,
   "id": "5794ea4d",
   "metadata": {},
   "outputs": [
    {
     "name": "stdout",
     "output_type": "stream",
     "text": [
      "Enter a number A: 15\n",
      "Enter a number B: 3\n"
     ]
    }
   ],
   "source": [
    "A = int(input(\"Enter a number A: \"))\n",
    "B = int(input(\"Enter a number B: \"))"
   ]
  },
  {
   "cell_type": "code",
   "execution_count": 27,
   "id": "e2a38280",
   "metadata": {},
   "outputs": [
    {
     "name": "stdout",
     "output_type": "stream",
     "text": [
      "A is divisible by B 1 times\n"
     ]
    }
   ],
   "source": [
    "c = 0\n",
    "while A%B == 0:\n",
    "    A = A/B\n",
    "    c += 1\n",
    "if c>0:\n",
    "    print(f\"A is divisible by B {c} times\")\n",
    "else:\n",
    "    print(\"A is not divisible by B\")\n",
    "    "
   ]
  },
  {
   "cell_type": "markdown",
   "id": "883a01a2",
   "metadata": {},
   "source": [
    "Q6."
   ]
  },
  {
   "cell_type": "code",
   "execution_count": 33,
   "id": "a8e72c16",
   "metadata": {},
   "outputs": [
    {
     "name": "stdout",
     "output_type": "stream",
     "text": [
      "[0, 1, 2, 3, 4, 5, 6, 7, 8, 9, 10, 11, 12, 13, 14, 15, 16, 17, 18, 19, 20, 21, 22, 23, 24]\n"
     ]
    }
   ],
   "source": [
    "list1 = []\n",
    "for i in range(25):\n",
    "    list1.append(i)\n",
    "    \n",
    "print(list1)"
   ]
  },
  {
   "cell_type": "code",
   "execution_count": 34,
   "id": "221dfbdf",
   "metadata": {},
   "outputs": [
    {
     "name": "stdout",
     "output_type": "stream",
     "text": [
      "0 is divisible by 3\n",
      "1 is not divisible by 3\n",
      "2 is not divisible by 3\n",
      "3 is divisible by 3\n",
      "4 is not divisible by 3\n",
      "5 is not divisible by 3\n",
      "6 is divisible by 3\n",
      "7 is not divisible by 3\n",
      "8 is not divisible by 3\n",
      "9 is divisible by 3\n",
      "10 is not divisible by 3\n",
      "11 is not divisible by 3\n",
      "12 is divisible by 3\n",
      "13 is not divisible by 3\n",
      "14 is not divisible by 3\n",
      "15 is divisible by 3\n",
      "16 is not divisible by 3\n",
      "17 is not divisible by 3\n",
      "18 is divisible by 3\n",
      "19 is not divisible by 3\n",
      "20 is not divisible by 3\n",
      "21 is divisible by 3\n",
      "22 is not divisible by 3\n",
      "23 is not divisible by 3\n",
      "24 is divisible by 3\n"
     ]
    }
   ],
   "source": [
    "for i in list1:\n",
    "    if i%3 == 0:\n",
    "        print(f\"{i} is divisible by 3\")\n",
    "    else:\n",
    "        print(f\"{i} is not divisible by 3\")"
   ]
  },
  {
   "cell_type": "markdown",
   "id": "a7a41572",
   "metadata": {},
   "source": [
    "Q7.\n",
    "1. Mutable data types: They are objects that can be modified or changed after creating them. Eg. list, dictionaries.\n",
    "2. Immutable data types: They are objects that cannot be changed pr modified after its creation. Eg. tuples, strings"
   ]
  },
  {
   "cell_type": "code",
   "execution_count": 35,
   "id": "0d5a15ba",
   "metadata": {},
   "outputs": [],
   "source": [
    "a = [\"apple\",2,\"mango\",4]"
   ]
  },
  {
   "cell_type": "code",
   "execution_count": 36,
   "id": "d91180ea",
   "metadata": {},
   "outputs": [],
   "source": [
    "a[0] = \"cherry\""
   ]
  },
  {
   "cell_type": "code",
   "execution_count": 37,
   "id": "44b9e55c",
   "metadata": {},
   "outputs": [
    {
     "data": {
      "text/plain": [
       "['cherry', 2, 'mango', 4]"
      ]
     },
     "execution_count": 37,
     "metadata": {},
     "output_type": "execute_result"
    }
   ],
   "source": [
    "a"
   ]
  },
  {
   "cell_type": "code",
   "execution_count": 38,
   "id": "92247fef",
   "metadata": {},
   "outputs": [],
   "source": [
    "b = (1,2,3,4)"
   ]
  },
  {
   "cell_type": "code",
   "execution_count": 39,
   "id": "7ac49c60",
   "metadata": {},
   "outputs": [
    {
     "ename": "TypeError",
     "evalue": "'tuple' object does not support item assignment",
     "output_type": "error",
     "traceback": [
      "\u001b[1;31m---------------------------------------------------------------------------\u001b[0m",
      "\u001b[1;31mTypeError\u001b[0m                                 Traceback (most recent call last)",
      "Input \u001b[1;32mIn [39]\u001b[0m, in \u001b[0;36m<cell line: 1>\u001b[1;34m()\u001b[0m\n\u001b[1;32m----> 1\u001b[0m \u001b[43mb\u001b[49m\u001b[43m[\u001b[49m\u001b[38;5;241;43m0\u001b[39;49m\u001b[43m]\u001b[49m \u001b[38;5;241m=\u001b[39m \u001b[38;5;241m99\u001b[39m\n",
      "\u001b[1;31mTypeError\u001b[0m: 'tuple' object does not support item assignment"
     ]
    }
   ],
   "source": [
    "b[0] = 99"
   ]
  },
  {
   "cell_type": "code",
   "execution_count": null,
   "id": "0a7d4d6e",
   "metadata": {},
   "outputs": [],
   "source": []
  }
 ],
 "metadata": {
  "kernelspec": {
   "display_name": "Python 3 (ipykernel)",
   "language": "python",
   "name": "python3"
  },
  "language_info": {
   "codemirror_mode": {
    "name": "ipython",
    "version": 3
   },
   "file_extension": ".py",
   "mimetype": "text/x-python",
   "name": "python",
   "nbconvert_exporter": "python",
   "pygments_lexer": "ipython3",
   "version": "3.10.5"
  }
 },
 "nbformat": 4,
 "nbformat_minor": 5
}
