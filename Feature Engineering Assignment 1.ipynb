{
 "cells": [
  {
   "cell_type": "markdown",
   "id": "ebe40a78",
   "metadata": {},
   "source": [
    "### Question 1"
   ]
  },
  {
   "cell_type": "markdown",
   "id": "8aafa664",
   "metadata": {},
   "source": [
    "Missing data occurs when no data value is stored or has been observed the variable under study. \n",
    "\n",
    "It is essential to address missing values efficiently because:-\n",
    "1. Reduce biased results, which may lead to inaccurate conclusions and predictions.\n",
    "2. Reduces model performance\n",
    "3. Misleading Visualisations\n",
    "4. Model instability, leading to unpredictable behaviour, overfitting, underfitting, hence compromising the generalized ability of the model.\n",
    "\n",
    "Algorithms such as k-NN and Random Forest algorithms support missing values."
   ]
  },
  {
   "cell_type": "markdown",
   "id": "1dfc421b",
   "metadata": {},
   "source": [
    "### Question 2"
   ]
  },
  {
   "cell_type": "markdown",
   "id": "36eec637",
   "metadata": {},
   "source": [
    "Techniques used to handle missing data:-\n",
    "1. dropna\n",
    "2. fillna\n"
   ]
  },
  {
   "cell_type": "code",
   "execution_count": 2,
   "id": "425ef487",
   "metadata": {},
   "outputs": [],
   "source": [
    "import pandas as pd"
   ]
  },
  {
   "cell_type": "code",
   "execution_count": 3,
   "id": "56d6d891",
   "metadata": {},
   "outputs": [],
   "source": [
    "df = pd.DataFrame({\n",
    "    'key1':[1,2,3,None,5],\n",
    "    'key2':[2,3,4,None,None],\n",
    "    'key3':[3,4,5,6,7]\n",
    "})"
   ]
  },
  {
   "cell_type": "code",
   "execution_count": 4,
   "id": "416877ee",
   "metadata": {},
   "outputs": [
    {
     "data": {
      "text/html": [
       "<div>\n",
       "<style scoped>\n",
       "    .dataframe tbody tr th:only-of-type {\n",
       "        vertical-align: middle;\n",
       "    }\n",
       "\n",
       "    .dataframe tbody tr th {\n",
       "        vertical-align: top;\n",
       "    }\n",
       "\n",
       "    .dataframe thead th {\n",
       "        text-align: right;\n",
       "    }\n",
       "</style>\n",
       "<table border=\"1\" class=\"dataframe\">\n",
       "  <thead>\n",
       "    <tr style=\"text-align: right;\">\n",
       "      <th></th>\n",
       "      <th>key1</th>\n",
       "      <th>key2</th>\n",
       "      <th>key3</th>\n",
       "    </tr>\n",
       "  </thead>\n",
       "  <tbody>\n",
       "    <tr>\n",
       "      <th>0</th>\n",
       "      <td>1.0</td>\n",
       "      <td>2.0</td>\n",
       "      <td>3</td>\n",
       "    </tr>\n",
       "    <tr>\n",
       "      <th>1</th>\n",
       "      <td>2.0</td>\n",
       "      <td>3.0</td>\n",
       "      <td>4</td>\n",
       "    </tr>\n",
       "    <tr>\n",
       "      <th>2</th>\n",
       "      <td>3.0</td>\n",
       "      <td>4.0</td>\n",
       "      <td>5</td>\n",
       "    </tr>\n",
       "    <tr>\n",
       "      <th>3</th>\n",
       "      <td>NaN</td>\n",
       "      <td>NaN</td>\n",
       "      <td>6</td>\n",
       "    </tr>\n",
       "    <tr>\n",
       "      <th>4</th>\n",
       "      <td>5.0</td>\n",
       "      <td>NaN</td>\n",
       "      <td>7</td>\n",
       "    </tr>\n",
       "  </tbody>\n",
       "</table>\n",
       "</div>"
      ],
      "text/plain": [
       "   key1  key2  key3\n",
       "0   1.0   2.0     3\n",
       "1   2.0   3.0     4\n",
       "2   3.0   4.0     5\n",
       "3   NaN   NaN     6\n",
       "4   5.0   NaN     7"
      ]
     },
     "execution_count": 4,
     "metadata": {},
     "output_type": "execute_result"
    }
   ],
   "source": [
    "df"
   ]
  },
  {
   "cell_type": "code",
   "execution_count": 5,
   "id": "f102d579",
   "metadata": {},
   "outputs": [
    {
     "data": {
      "text/html": [
       "<div>\n",
       "<style scoped>\n",
       "    .dataframe tbody tr th:only-of-type {\n",
       "        vertical-align: middle;\n",
       "    }\n",
       "\n",
       "    .dataframe tbody tr th {\n",
       "        vertical-align: top;\n",
       "    }\n",
       "\n",
       "    .dataframe thead th {\n",
       "        text-align: right;\n",
       "    }\n",
       "</style>\n",
       "<table border=\"1\" class=\"dataframe\">\n",
       "  <thead>\n",
       "    <tr style=\"text-align: right;\">\n",
       "      <th></th>\n",
       "      <th>key1</th>\n",
       "      <th>key2</th>\n",
       "      <th>key3</th>\n",
       "    </tr>\n",
       "  </thead>\n",
       "  <tbody>\n",
       "    <tr>\n",
       "      <th>0</th>\n",
       "      <td>1.0</td>\n",
       "      <td>2.0</td>\n",
       "      <td>3</td>\n",
       "    </tr>\n",
       "    <tr>\n",
       "      <th>1</th>\n",
       "      <td>2.0</td>\n",
       "      <td>3.0</td>\n",
       "      <td>4</td>\n",
       "    </tr>\n",
       "    <tr>\n",
       "      <th>2</th>\n",
       "      <td>3.0</td>\n",
       "      <td>4.0</td>\n",
       "      <td>5</td>\n",
       "    </tr>\n",
       "  </tbody>\n",
       "</table>\n",
       "</div>"
      ],
      "text/plain": [
       "   key1  key2  key3\n",
       "0   1.0   2.0     3\n",
       "1   2.0   3.0     4\n",
       "2   3.0   4.0     5"
      ]
     },
     "execution_count": 5,
     "metadata": {},
     "output_type": "execute_result"
    }
   ],
   "source": [
    "df.dropna()"
   ]
  },
  {
   "cell_type": "code",
   "execution_count": 6,
   "id": "dfbe7e97",
   "metadata": {},
   "outputs": [
    {
     "data": {
      "text/html": [
       "<div>\n",
       "<style scoped>\n",
       "    .dataframe tbody tr th:only-of-type {\n",
       "        vertical-align: middle;\n",
       "    }\n",
       "\n",
       "    .dataframe tbody tr th {\n",
       "        vertical-align: top;\n",
       "    }\n",
       "\n",
       "    .dataframe thead th {\n",
       "        text-align: right;\n",
       "    }\n",
       "</style>\n",
       "<table border=\"1\" class=\"dataframe\">\n",
       "  <thead>\n",
       "    <tr style=\"text-align: right;\">\n",
       "      <th></th>\n",
       "      <th>key1</th>\n",
       "      <th>key2</th>\n",
       "      <th>key3</th>\n",
       "    </tr>\n",
       "  </thead>\n",
       "  <tbody>\n",
       "    <tr>\n",
       "      <th>0</th>\n",
       "      <td>1.0</td>\n",
       "      <td>2.0</td>\n",
       "      <td>3</td>\n",
       "    </tr>\n",
       "    <tr>\n",
       "      <th>1</th>\n",
       "      <td>2.0</td>\n",
       "      <td>3.0</td>\n",
       "      <td>4</td>\n",
       "    </tr>\n",
       "    <tr>\n",
       "      <th>2</th>\n",
       "      <td>3.0</td>\n",
       "      <td>4.0</td>\n",
       "      <td>5</td>\n",
       "    </tr>\n",
       "    <tr>\n",
       "      <th>3</th>\n",
       "      <td>0.0</td>\n",
       "      <td>0.0</td>\n",
       "      <td>6</td>\n",
       "    </tr>\n",
       "    <tr>\n",
       "      <th>4</th>\n",
       "      <td>5.0</td>\n",
       "      <td>0.0</td>\n",
       "      <td>7</td>\n",
       "    </tr>\n",
       "  </tbody>\n",
       "</table>\n",
       "</div>"
      ],
      "text/plain": [
       "   key1  key2  key3\n",
       "0   1.0   2.0     3\n",
       "1   2.0   3.0     4\n",
       "2   3.0   4.0     5\n",
       "3   0.0   0.0     6\n",
       "4   5.0   0.0     7"
      ]
     },
     "execution_count": 6,
     "metadata": {},
     "output_type": "execute_result"
    }
   ],
   "source": [
    "df.fillna(0)"
   ]
  },
  {
   "cell_type": "markdown",
   "id": "b2252579",
   "metadata": {},
   "source": [
    "### Question 3"
   ]
  },
  {
   "cell_type": "markdown",
   "id": "c35f7d4e",
   "metadata": {},
   "source": [
    "Imbalanced data occurs when the classes in your target variable are not represented equally. This is common in scenarios such as fraud detection, medical diagnoses, and rare event predictions, where the number of instances of one class (e.g., fraudulent transactions) is much smaller than the number of instances of the other class (e.g., non-fraudulent transactions).\n",
    "\n",
    "Challenges with Imbalanced Data\n",
    "1. Bias Towards Majority Class: Machine learning models may become biased towards the majority class and perform poorly on the minority class.\n",
    "2. Evaluation Metrics: Standard accuracy is not a good metric for imbalanced datasets. For example, if 95% of the data belongs to one class, a model that always predicts that class will have 95% accuracy, but it won't be useful for identifying the minority class.\n",
    "3. Underrepresentation of Minority Class: The minority class may not have enough examples to learn from, leading to poor generalization."
   ]
  },
  {
   "cell_type": "markdown",
   "id": "435761c5",
   "metadata": {},
   "source": [
    "### Question 4."
   ]
  },
  {
   "cell_type": "markdown",
   "id": "702f23c2",
   "metadata": {},
   "source": [
    "Up-sampling and down-sampling are techniques used to address the problem of imbalanced datasets, where one class is underrepresented compared to the others.\n",
    "\n",
    "Up-sampling involves increasing the number of instances in the minority class to match the number of instances in the majority class.\n",
    "Eg. Suppose we are building a model to detect fraudulent transactions in a dataset where 98% of transactions are legitimate and only 2% are fraudulent. This significant imbalance can cause the model to be biased towards predicting transactions as legitimate.\n",
    "\n",
    "Down-sampling involves reducing the number of instances in the majority class to match the number of instances in the minority class.\n",
    "Eg. Consider a scenario where you have a dataset for predicting machine failure, with 95% non-failure instances and 5% failure instances. The imbalance can lead to a model that is biased towards predicting non-failures. In this case, down-sampling the non-failure instances can help balance the dataset. "
   ]
  },
  {
   "cell_type": "markdown",
   "id": "a763950c",
   "metadata": {},
   "source": [
    "### Question 5."
   ]
  },
  {
   "cell_type": "markdown",
   "id": "02a19e2e",
   "metadata": {},
   "source": [
    "Data augmentation is a technique used to increase the diversity of your training data without actually collecting new data. It's commonly used in various domains, particularly in computer vision, but also in tabular data for imbalanced datasets. The goal is to improve the robustness and performance of machine learning models by artificially generating new examples from the existing data.\n",
    "###### Example:\n",
    "1. In computer vision, rotating images by small degrees\n",
    "2. Synonym Replacement: Replacing words with their synonyms"
   ]
  },
  {
   "cell_type": "markdown",
   "id": "1788b051",
   "metadata": {},
   "source": [
    "SMOTE (Synthetic Minority Over-sampling Technique) is a popular technique for addressing imbalanced datasets in the context of ttabular data. It works by creating synthetic examples (say, by interpolation) of the minority class rather than simply duplicating existing ones. SMOTE reduces the risk of overfitting that can occur with simple duplication of minority class examples. It helps the model to learn the characteristics of the minority class better, improving predictive performance."
   ]
  },
  {
   "cell_type": "markdown",
   "id": "1536c8c2",
   "metadata": {},
   "source": [
    "### Question 6."
   ]
  },
  {
   "cell_type": "markdown",
   "id": "89831bd1",
   "metadata": {},
   "source": [
    "Outliers are data points that differ significantly from the majority distribution of the data in a dataset. They can be much higher or lower than the rest of the values. Outliers can occur due to variability in the data, measurement errors, data entry errors, or they might indicate something inherently unusual about the data point.\n",
    "\n",
    "Handling outliers is crucial for several reasons:\n",
    "1. Outliers can skew mean and standard deviation, leading to a misleading representation of the data distribution. They can affect the results of hypothesis tests and confidence intervals.\n",
    "2. Regression Models: Outliers can disproportionately influence the fit of the model, resulting in biased parameter estimates.\n",
    "3. Clustering Algorithms: Outliers can distort the formation of clusters, affecting the overall clustering results.\n",
    "4. Outliers may indicate data entry or measurement errors that need to be corrected to ensure data quality.\n",
    "5. Handling outliers can improve the performance and robustness of machine learning models, leading to better predictions and insights."
   ]
  },
  {
   "cell_type": "markdown",
   "id": "3d0b0fc0",
   "metadata": {},
   "source": [
    "### Question 7."
   ]
  },
  {
   "cell_type": "markdown",
   "id": "285c916d",
   "metadata": {},
   "source": [
    "##### Techniques to handle missing data\n",
    "1. Filling missing data using fillna: Based on the distribution of the data, the missing values can be filled with the mean, median or mode. For a normally distributed data, we may use the mean. For a skewed data, we may use the median. For a categorical data, we may use the mode. \n",
    "2. Filling missing data using interpolation like ffill and bfill, where ffill is forward interpolation and bfill is backward interpolation. \n",
    "3. In case of small number of rows having missing data, we can drop the rows. \n",
    "4. In case of large number of missing values in a certain column (which may or may not be important), we may drop the entire column."
   ]
  },
  {
   "cell_type": "markdown",
   "id": "f974b14a",
   "metadata": {},
   "source": [
    "### Question 8."
   ]
  },
  {
   "cell_type": "markdown",
   "id": "bfcb7eb9",
   "metadata": {},
   "source": [
    "Strategies to Determine the Nature of Missing Data\n",
    "1. MCAR (Missing Completely at Random): Missingness is independent of any observed or unobserved data. Testing for MCAR often involves Little’s MCAR test, which checks if the missing data is unrelated to the values of any variables.\n",
    "2. MAR (Missing at Random): Missingness depends on observed data but not on the missing data itself. To test for MAR, analyze whether the missingness is related to other observed variables.\n",
    "3. MNAR (Missing Not at Random): Missingness depends on the unobserved data. This is the most complex case, often requiring domain knowledge to hypothesize and test.\n",
    "4. orrelation with Missingness: Compute the correlation between the presence of missing values (binary indicator) and other variables. Significant correlations may suggest that data is MAR."
   ]
  },
  {
   "cell_type": "markdown",
   "id": "688bc6ca",
   "metadata": {},
   "source": [
    "### Question 9."
   ]
  },
  {
   "cell_type": "markdown",
   "id": "c207cd41",
   "metadata": {},
   "source": [
    "When dealing with an imbalanced dataset in a medical diagnosis project, where the condition of interest is rare, it’s crucial to use strategies that properly evaluate the performance of your machine learning model and reduce bias towards the majority class. \n",
    "Here the majority class does not have the condition of interest. \n",
    "1. We can use SMOTE, an oversampling technique used to generate synthetic samples for the minority class. \n",
    "2. Undersampling technique on majority class can be applied to reduce the data, but this leads to loss of information."
   ]
  },
  {
   "cell_type": "markdown",
   "id": "ec414961",
   "metadata": {},
   "source": [
    "### Question 10."
   ]
  },
  {
   "cell_type": "markdown",
   "id": "502ca304",
   "metadata": {},
   "source": [
    "Methods to Down-sample the Majority Class\n",
    "1. Random under-sampling is a technique used to balance an imbalanced dataset by reducing the number of instances in the majority class. This method helps prevent the model from being biased toward the majority class and ensures that it learns to recognize the minority class effectively.\n",
    "2. Cluster-based under-sampling is an advanced technique used to handle imbalanced datasets by strategically selecting representative samples from the majority class. This method involves clustering the majority class data and then sampling points from each cluster to form a balanced dataset. The idea is to retain the diversity of the majority class while reducing its size."
   ]
  },
  {
   "cell_type": "markdown",
   "id": "bf7b8444",
   "metadata": {},
   "source": [
    "### Question 11."
   ]
  },
  {
   "cell_type": "markdown",
   "id": "c802ae16",
   "metadata": {},
   "source": [
    "Methods to Up-sample the minority class, i.e. the rare event\n",
    "1. Random over-sampling involves randomly duplicating instances from the minority class to match the number of instances in the majority class.\n",
    "2. SMOTE generates synthetic samples for the minority class by interpolating between existing minority class instances. This helps create more diverse examples in the minority class."
   ]
  },
  {
   "cell_type": "code",
   "execution_count": null,
   "id": "1d582558",
   "metadata": {},
   "outputs": [],
   "source": []
  }
 ],
 "metadata": {
  "kernelspec": {
   "display_name": "Python 3 (ipykernel)",
   "language": "python",
   "name": "python3"
  },
  "language_info": {
   "codemirror_mode": {
    "name": "ipython",
    "version": 3
   },
   "file_extension": ".py",
   "mimetype": "text/x-python",
   "name": "python",
   "nbconvert_exporter": "python",
   "pygments_lexer": "ipython3",
   "version": "3.10.5"
  }
 },
 "nbformat": 4,
 "nbformat_minor": 5
}
