{
 "cells": [
  {
   "cell_type": "markdown",
   "id": "9a66bfff",
   "metadata": {},
   "source": [
    "# Machine Learning - 1"
   ]
  },
  {
   "cell_type": "markdown",
   "id": "acb71342",
   "metadata": {},
   "source": [
    "## Assignment"
   ]
  },
  {
   "cell_type": "markdown",
   "id": "0bf2d0ca",
   "metadata": {},
   "source": [
    "#### Q1. Explain the following: \n",
    "a) Artificial Intelligence:These are smart applications that can perform its own task without any human interaction.\n",
    "   eg. Self drive cars, Siri, robots\n"
   ]
  },
  {
   "cell_type": "markdown",
   "id": "5d2fe92e",
   "metadata": {},
   "source": [
    "b) Machine Learning: It provides statistical tools to learn, analyze, visualise and develop predictive models from the data. \n",
    "   eg. The recommendation system of Netflix, stock market prediction.\n"
   ]
  },
  {
   "cell_type": "markdown",
   "id": "5c27fcbb",
   "metadata": {},
   "source": [
    "c) Deep Learning: is essentially a neural network which attempts to simulate the behaviour of of the human brain allowing it to learn from large amount of data. "
   ]
  },
  {
   "cell_type": "markdown",
   "id": "8cead3c1",
   "metadata": {},
   "source": [
    "#### Q2. What is supervised learning? List some examples."
   ]
  },
  {
   "cell_type": "markdown",
   "id": "e0778566",
   "metadata": {},
   "source": [
    "Supervised learning is a paradigm in machine learning where input objects and a desired output value train a model.\n",
    "eg. fraud detection, recommendation systems. "
   ]
  },
  {
   "cell_type": "markdown",
   "id": "553a8adb",
   "metadata": {},
   "source": [
    "#### Q3- What is unsupervised learning? List some examples. "
   ]
  },
  {
   "cell_type": "markdown",
   "id": "56b2d0dc",
   "metadata": {},
   "source": [
    "Unsupervised learning is a paradigm in machine learning where algorithms learn patterns exclusively from unlabeled data. eg. customer segmentation, social network analysis."
   ]
  },
  {
   "cell_type": "markdown",
   "id": "f327eb14",
   "metadata": {},
   "source": [
    "#### Q4. What is the difference between AI, ML, DL and DS?"
   ]
  },
  {
   "cell_type": "markdown",
   "id": "42343f1a",
   "metadata": {},
   "source": [
    "AI stands for Artificial Intelligence, and is basically the study/process which enables machines to mimic human behaviour through particular algorithm. AI is the broader family consisting of ML and DL as it’s components. AI is a computer algorithm which exhibits intelligence through decision making."
   ]
  },
  {
   "cell_type": "markdown",
   "id": "32686d5b",
   "metadata": {},
   "source": [
    "ML stands for Machine Learning, and is the study that uses statistical methods enabling machines to improve with experience. ML is the subset of AI. ML is an AI algorithm which allows system to learn from data.\n"
   ]
  },
  {
   "cell_type": "markdown",
   "id": "706eef2f",
   "metadata": {},
   "source": [
    "DL stands for Deep Learning, and is the study that makes use of Neural Networks(similar to neurons present in human brain) to imitate functionality just like a human brain. DL is the subset of ML. DL is a ML algorithm that uses deep(more than one layer) neural networks to analyze data and provide output accordingly."
   ]
  },
  {
   "cell_type": "markdown",
   "id": "c8bfdd1c",
   "metadata": {},
   "source": [
    "DS stands for Data Science, is a discipline that uses various technologies and methods to analyze data. It is the conjunction of computational science, statistics, mathematics, and knowledge of the company or business. The main goal of data science is to find patterns in data and derive meaningful insights from the data to make smart business decisions. It is a combination of AI, ML and DL. "
   ]
  },
  {
   "cell_type": "markdown",
   "id": "184af0e6",
   "metadata": {},
   "source": [
    "#### Q5. What is the main difference between supervised, unsupervised and semi-supervised learning?"
   ]
  },
  {
   "cell_type": "markdown",
   "id": "5e2aa6d7",
   "metadata": {},
   "source": [
    "Supervised Learning- involves modeling the relationship between measured features of data and some label associated with the data; once the model is determined it can be used to apply labels to new, unknown data. "
   ]
  },
  {
   "cell_type": "markdown",
   "id": "aebf63cd",
   "metadata": {},
   "source": [
    "Unsupervised Learning - involves modeling the features of a dataset without reference to any label."
   ]
  },
  {
   "cell_type": "markdown",
   "id": "ff46dfd0",
   "metadata": {},
   "source": [
    "Semi-supervised Learning - is a combination of supervised and unsupervised learning. This is often used when only incomplete labels are available. "
   ]
  },
  {
   "cell_type": "markdown",
   "id": "378f6056",
   "metadata": {},
   "source": [
    "#### Q6. What is train, test and validation split?"
   ]
  },
  {
   "cell_type": "markdown",
   "id": "a160dd21",
   "metadata": {},
   "source": [
    "Training data is the initial dataset you use to teach a machine learning application to recognize patterns or perform to your criteria."
   ]
  },
  {
   "cell_type": "markdown",
   "id": "6609c3b7",
   "metadata": {},
   "source": [
    "Test in machine learning is referred to as the process where the performance of a fully trained model is evaluated on a testing set, which is new and unknown."
   ]
  },
  {
   "cell_type": "markdown",
   "id": "583e773d",
   "metadata": {},
   "source": [
    "Validation is referred to as the process where a trained model is evaluated with a testing data set to measure the accuracy of the model."
   ]
  },
  {
   "cell_type": "markdown",
   "id": "31eba00e",
   "metadata": {},
   "source": [
    "#### Q7. How can unsupervised learning be used in anomaly detection?"
   ]
  },
  {
   "cell_type": "markdown",
   "id": "74e05ff8",
   "metadata": {},
   "source": [
    "For anomaly detection, we assume that the dataset used for the learning purpose has all non-anomalous training examples (or very small fraction of anomalous example). The goal of the anomaly detection algorithm through the data fed to it is to learn the patterns of a normal activity so that when an anomalous activity occurs, we can flag it through the inclusion-exclusion principle."
   ]
  },
  {
   "cell_type": "markdown",
   "id": "1fe54f5b",
   "metadata": {},
   "source": [
    "#### Q8. Commonly used supervised learning algorithms and unsupervised learning algorithms."
   ]
  },
  {
   "cell_type": "markdown",
   "id": "33448bb1",
   "metadata": {},
   "source": [
    "Supervised Learning Algorithms: Support Vector machine, Random Forest, Decision-Making, linear regression."
   ]
  },
  {
   "cell_type": "markdown",
   "id": "4e5a82e7",
   "metadata": {},
   "source": [
    "Unsupervised Learning Algorithms: Cluster analysis, k-means clustering, Anomaly Detection."
   ]
  },
  {
   "cell_type": "code",
   "execution_count": null,
   "id": "091ce923",
   "metadata": {},
   "outputs": [],
   "source": []
  }
 ],
 "metadata": {
  "kernelspec": {
   "display_name": "Python 3 (ipykernel)",
   "language": "python",
   "name": "python3"
  },
  "language_info": {
   "codemirror_mode": {
    "name": "ipython",
    "version": 3
   },
   "file_extension": ".py",
   "mimetype": "text/x-python",
   "name": "python",
   "nbconvert_exporter": "python",
   "pygments_lexer": "ipython3",
   "version": "3.10.5"
  }
 },
 "nbformat": 4,
 "nbformat_minor": 5
}
